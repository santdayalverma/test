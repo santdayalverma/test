{
 "cells": [
  {
   "cell_type": "code",
   "execution_count": 1,
   "metadata": {},
   "outputs": [
    {
     "name": "stdout",
     "output_type": "stream",
     "text": [
      "{1: 1, 2: 3, 3: 2, 4: 2}\n"
     ]
    }
   ],
   "source": [
    "\"\"\"Problem 1: Counting the Frequency of Elements in a List\"\"\"\n",
    "\n",
    "# Solution\n",
    "def count_elements(lst):\n",
    "    frequency = {}\n",
    "    for element in lst:\n",
    "        frequency[element] = frequency.get(element, 0) + 1\n",
    "    return frequency\n",
    "\n",
    "# Example usage\n",
    "numbers = [1, 2, 3, 2, 3, 4, 2, 4]\n",
    "frequency = count_elements(numbers)\n",
    "print(frequency)  # Output: {1: 3, 2: 3, 3: 2, 4: 2}"
   ]
  },
  {
   "cell_type": "code",
   "execution_count": 2,
   "metadata": {},
   "outputs": [
    {
     "name": "stdout",
     "output_type": "stream",
     "text": [
      "{1: 1, 2: 1}\n"
     ]
    }
   ],
   "source": [
    "num=[1,2]\n",
    "print(count_elements(num)) "
   ]
  },
  {
   "cell_type": "code",
   "execution_count": 3,
   "metadata": {},
   "outputs": [
    {
     "name": "stdout",
     "output_type": "stream",
     "text": [
      "{1: 2, 2: 4, 3: 3}\n"
     ]
    }
   ],
   "source": [
    "num=[1,1,2,2,2,2,3,3,3]\n",
    "print(count_elements(num))"
   ]
  },
  {
   "cell_type": "code",
   "execution_count": 4,
   "metadata": {},
   "outputs": [
    {
     "name": "stdout",
     "output_type": "stream",
     "text": [
      "4\n"
     ]
    }
   ],
   "source": [
    "x = {1: 3, 2: 3, 3: 2, 4: 2}\n",
    "print(x.get(1,0)+1)"
   ]
  },
  {
   "cell_type": "code",
   "execution_count": 5,
   "metadata": {},
   "outputs": [
    {
     "name": "stdout",
     "output_type": "stream",
     "text": [
      "{'a': 1, 'b': 2, 'c': 3, 'd': 4}\n"
     ]
    }
   ],
   "source": [
    "# Solution\n",
    "def merge_dicts(dict1, dict2):\n",
    "    merged_dict = dict1.copy()\n",
    "    merged_dict.update(dict2)\n",
    "    return merged_dict\n",
    "\n",
    "# Example usage\n",
    "dict1 = {\"a\": 1, \"b\": 2}\n",
    "dict2 = {\"c\": 3, \"d\": 4}\n",
    "merged = merge_dicts(dict1, dict2)\n",
    "print(merged)  # Output: {'a': 1, 'b': 2, 'c': 3, 'd': 4}"
   ]
  },
  {
   "cell_type": "code",
   "execution_count": 6,
   "metadata": {},
   "outputs": [
    {
     "name": "stdout",
     "output_type": "stream",
     "text": [
      "{'a': 1, 'b': 2, 'c': 3, 'd': 4}\n"
     ]
    }
   ],
   "source": [
    "dict1 = {\"a\": 1, \"b\": 2}\n",
    "dict2 = {\"c\": 3, \"d\": 4}\n",
    "\n",
    "merged_dict = dict1.copy()\n",
    "merged_dict.update(dict2)\n",
    "\n",
    "print(merged_dict)"
   ]
  },
  {
   "attachments": {},
   "cell_type": "markdown",
   "metadata": {},
   "source": [
    "Fnding the Key with the Maximum Value in a Dictionary"
   ]
  },
  {
   "cell_type": "code",
   "execution_count": 7,
   "metadata": {},
   "outputs": [
    {
     "name": "stdout",
     "output_type": "stream",
     "text": [
      "Bob\n"
     ]
    }
   ],
   "source": [
    "# Solution\n",
    "def find_max_value_key(dictionary):\n",
    "    max_value = max(dictionary.values())\n",
    "    for key, value in dictionary.items():\n",
    "        if value == max_value:\n",
    "            return key\n",
    "\n",
    "# Example usage\n",
    "ages = {\"Alice\": 25, \"Bob\": 30, \"Charlie\": 20, \"Dave\": 30}\n",
    "max_age_key = find_max_value_key(ages)\n",
    "print(max_age_key)  # Output: 'Bob'"
   ]
  },
  {
   "cell_type": "code",
   "execution_count": 8,
   "metadata": {},
   "outputs": [
    {
     "name": "stdout",
     "output_type": "stream",
     "text": [
      "{'Bob': 80, 'Dave': 85, 'Alice': 90, 'Charlie': 95}\n"
     ]
    }
   ],
   "source": [
    "# Solution\n",
    "def sort_dict_by_values(dictionary):\n",
    "    sorted_dict = {k: v for k, v in sorted(dictionary.items(), key=lambda item: item[1])}\n",
    "    return sorted_dict\n",
    "\n",
    "# Example usage\n",
    "scores = {\"Alice\": 90, \"Bob\": 80, \"Charlie\": 95, \"Dave\": 85}\n",
    "sorted_scores = sort_dict_by_values(scores)\n",
    "print(sorted_scores)  # Output: {'Bob': 80, 'Dave': 85, 'Alice': 90, 'Charlie': 95}\n"
   ]
  },
  {
   "cell_type": "code",
   "execution_count": null,
   "metadata": {},
   "outputs": [],
   "source": []
  }
 ],
 "metadata": {
  "kernelspec": {
   "display_name": "Python 3",
   "language": "python",
   "name": "python3"
  },
  "language_info": {
   "codemirror_mode": {
    "name": "ipython",
    "version": 3
   },
   "file_extension": ".py",
   "mimetype": "text/x-python",
   "name": "python",
   "nbconvert_exporter": "python",
   "pygments_lexer": "ipython3",
   "version": "3.11.1"
  },
  "orig_nbformat": 4
 },
 "nbformat": 4,
 "nbformat_minor": 2
}
