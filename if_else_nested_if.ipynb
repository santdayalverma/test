{
 "cells": [
  {
   "cell_type": "code",
   "execution_count": 6,
   "metadata": {},
   "outputs": [
    {
     "name": "stdout",
     "output_type": "stream",
     "text": [
      "postive\n"
     ]
    }
   ],
   "source": [
    "#Check if a number is positive, neg, zero.\n",
    "\n",
    "num = float(input('enter a number'))\n",
    "if num>0:\n",
    "    print('postive')\n",
    "elif num<0:\n",
    "    print('nrg number')\n",
    "else:\n",
    "    print('zero')"
   ]
  },
  {
   "cell_type": "code",
   "execution_count": 7,
   "metadata": {},
   "outputs": [
    {
     "name": "stdout",
     "output_type": "stream",
     "text": [
      "even\n"
     ]
    }
   ],
   "source": [
    "#Determine whether a num is odd or even.\n",
    "\n",
    "num = int(input('enter a number'))\n",
    "if num%2==0:\n",
    "    print('even')\n",
    "else:\n",
    "    print('odd')"
   ]
  },
  {
   "cell_type": "code",
   "execution_count": 10,
   "metadata": {},
   "outputs": [
    {
     "name": "stdout",
     "output_type": "stream",
     "text": [
      "2 6 1\n",
      "Maximum number: 6\n"
     ]
    }
   ],
   "source": [
    "#Det the max of three numbers.\n",
    "a = int(input(\"Enter first number: \"))\n",
    "b = int(input(\"Enter second number: \"))\n",
    "c = int(input(\"Enter third number: \"))\n",
    "\n",
    "print(a,b,c)\n",
    "\n",
    "if a>=b and a>=c:\n",
    "    print('max num:', a)\n",
    "\n",
    "elif b >= a and b >= c:\n",
    "    print(\"Maximum number:\", b)\n",
    "\n",
    "else:\n",
    "    print('max number:', c)\n"
   ]
  },
  {
   "cell_type": "code",
   "execution_count": 11,
   "metadata": {},
   "outputs": [
    {
     "name": "stdout",
     "output_type": "stream",
     "text": [
      "Not a leap year\n"
     ]
    }
   ],
   "source": [
    "#Check if a year is a leap year.\n",
    "\n",
    "year = int(input(\"Enter a year: \"))\n",
    "if (year % 4 == 0 and year % 100 != 0) or year % 400 == 0:\n",
    "    print(\"Leap year\")\n",
    "else:\n",
    "    print(\"Not a leap year\")\n"
   ]
  },
  {
   "cell_type": "code",
   "execution_count": 12,
   "metadata": {},
   "outputs": [
    {
     "name": "stdout",
     "output_type": "stream",
     "text": [
      "Number of days in the given month: 28\n"
     ]
    }
   ],
   "source": [
    "month = int(input(\"Enter the month (1-12): \"))\n",
    "year = int(input(\"Enter the year: \"))\n",
    "\n",
    "if month in (1, 3, 5, 7, 8, 10, 12):\n",
    "    days = 31\n",
    "elif month in (4, 6, 9, 11):\n",
    "    days = 30\n",
    "elif month == 2:\n",
    "    if (year % 4 == 0 and year % 100 != 0) or year % 400 == 0:\n",
    "        days = 29\n",
    "    else:\n",
    "        days = 28\n",
    "else:\n",
    "    print(\"Invalid month\")\n",
    "    days = 0\n",
    "\n",
    "if days != 0:\n",
    "    print(\"Number of days in the given month:\", days)\n"
   ]
  },
  {
   "cell_type": "code",
   "execution_count": 20,
   "metadata": {},
   "outputs": [
    {
     "name": "stdout",
     "output_type": "stream",
     "text": [
      "Not a perfect number\n"
     ]
    }
   ],
   "source": [
    "#Check number is prefect number or not\n",
    "num = int(input(\"Enter a number: \"))\n",
    "sum_of_divisors = 0\n",
    "\n",
    "for i in range(1, num):\n",
    "    if num % i == 0:\n",
    "        sum_of_divisors += i\n",
    "\n",
    "if sum_of_divisors == num:\n",
    "    print(\"Perfect number\")\n",
    "else:\n",
    "    print(\"Not a perfect number\")\n"
   ]
  },
  {
   "cell_type": "code",
   "execution_count": 22,
   "metadata": {},
   "outputs": [
    {
     "name": "stdout",
     "output_type": "stream",
     "text": [
      "Digit\n"
     ]
    }
   ],
   "source": [
    "#Def which types of character.\n",
    "\n",
    "char = input(\"Enter a character: \")\n",
    "\n",
    "if char.isupper():\n",
    "    print(\"Uppercase letter\")\n",
    "elif char.islower():\n",
    "    print(\"Lowercase letter\")\n",
    "elif char.isdigit():\n",
    "    print(\"Digit\")\n",
    "else:\n",
    "    print(\"Special character\")\n"
   ]
  },
  {
   "cell_type": "code",
   "execution_count": null,
   "metadata": {},
   "outputs": [],
   "source": [
    "string = input(\"Enter a string: \").lower()\n",
    "vowels = 0\n",
    "consonants = 0\n",
    "\n",
    "for char in string:\n",
    "    if char.isalpha():   #isalpha() - check if all the char are alphabet letter.\n",
    "        if char in \"aeiou\":\n",
    "            vowels += 1\n",
    "        else:\n",
    "            consonants += 1\n",
    "\n",
    "print(\"Number of vowels:\", vowels)\n",
    "print(\"Number of consonants:\", consonants)\n"
   ]
  },
  {
   "cell_type": "code",
   "execution_count": 25,
   "metadata": {},
   "outputs": [
    {
     "name": "stdout",
     "output_type": "stream",
     "text": [
      "Winner: X\n"
     ]
    }
   ],
   "source": [
    "#Check who win the game.\n",
    "board = [\n",
    "    [\"X\", \"O\", \"X\"],\n",
    "    [\"O\", \"X\", \"O\"],\n",
    "    [\"X\", \"O\", \"X\"]\n",
    "]\n",
    "\n",
    "winner = None\n",
    "\n",
    "# Check rows\n",
    "for row in board:\n",
    "    if row[0] == row[1] == row[2]:\n",
    "        winner = row[0]\n",
    "\n",
    "# Check columns\n",
    "for col in range(3):\n",
    "    if board[0][col] == board[1][col] == board[2][col]:\n",
    "        winner = board[0][col]\n",
    "\n",
    "# Check diagonals\n",
    "if board[0][0] == board[1][1] == board[2][2]:\n",
    "    winner = board[0][0]\n",
    "elif board[0][2] == board[1][1] == board[2][0]:\n",
    "    winner = board[0][2]\n",
    "\n",
    "if winner:\n",
    "    print(\"Winner:\", winner)\n",
    "else:\n",
    "    print(\"No winner\")\n"
   ]
  },
  {
   "cell_type": "code",
   "execution_count": 26,
   "metadata": {},
   "outputs": [
    {
     "name": "stdout",
     "output_type": "stream",
     "text": [
      "Largest number: 89\n",
      "Smallest number: 7\n"
     ]
    }
   ],
   "source": [
    "numbers = [12, 45, 7, 23, 89, 34]\n",
    "largest = smallest = numbers[0]\n",
    "\n",
    "for num in numbers:\n",
    "    if num > largest:\n",
    "        largest = num\n",
    "    if num < smallest:\n",
    "        smallest = num\n",
    "\n",
    "print(\"Largest number:\", largest)\n",
    "print(\"Smallest number:\", smallest)\n"
   ]
  },
  {
   "cell_type": "code",
   "execution_count": 27,
   "metadata": {},
   "outputs": [
    {
     "name": "stdout",
     "output_type": "stream",
     "text": [
      "Not an anagram\n"
     ]
    }
   ],
   "source": [
    "str1 = input(\"Enter first string: \").lower()\n",
    "str2 = input(\"Enter second string: \").lower()\n",
    "\n",
    "if sorted(str1) == sorted(str2):\n",
    "    print(\"Anagram\")\n",
    "else:\n",
    "    print(\"Not an anagram\")\n"
   ]
  },
  {
   "cell_type": "code",
   "execution_count": null,
   "metadata": {},
   "outputs": [],
   "source": []
  }
 ],
 "metadata": {
  "kernelspec": {
   "display_name": "Python 3",
   "language": "python",
   "name": "python3"
  },
  "language_info": {
   "codemirror_mode": {
    "name": "ipython",
    "version": 3
   },
   "file_extension": ".py",
   "mimetype": "text/x-python",
   "name": "python",
   "nbconvert_exporter": "python",
   "pygments_lexer": "ipython3",
   "version": "3.11.1"
  },
  "orig_nbformat": 4
 },
 "nbformat": 4,
 "nbformat_minor": 2
}
